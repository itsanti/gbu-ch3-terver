{
 "cells": [
  {
   "cell_type": "markdown",
   "metadata": {},
   "source": [
    "### Упражнения"
   ]
  },
  {
   "cell_type": "markdown",
   "metadata": {},
   "source": [
    "__Задача 1__\n",
    "\n",
    "Контрольная работа состоит из пяти вопросов. На каждый вопрос приведено четыре варианта ответа, один из которых правильный. Составьте закон распределения числа правильных ответов при простом угадывании. Найдите `M(X)`, `D(X)`."
   ]
  },
  {
   "cell_type": "markdown",
   "metadata": {},
   "source": [
    "вероятность угадать ответ P(A) = 0.25\n",
    "\n",
    "мы можем угадать 0, 1, 2, 3, 4 или 5 ответов\n",
    "\n",
    "используем биноминальный закон распределения\n",
    "\n",
    "$$P(X = 0) = C_n^k p^k (1 - p)^{n - k} = C_5^0 \\cdot 0.25^0 \\cdot 0.75^5 = \\frac{5!}{0! \\: (5-0)!} \\cdot 0.25^0 \\cdot 0.75^5 = 1 \\cdot 1 \\cdot 0.237 = 0.237.$$\n",
    "\n",
    "$$P(X = 1) = C_n^k p^k (1 - p)^{n - k} = C_5^1 \\cdot 0.25^1 \\cdot 0.75^4 = \\frac{5!}{1! \\: (5-1)!} \\cdot 0.25^1 \\cdot 0.75^4 = 5 \\cdot 0.25 \\cdot 0.316 = 0.395.$$\n",
    "\n",
    "$$P(X = 2) = C_n^k p^k (1 - p)^{n - k} = C_5^2 \\cdot 0.25^2 \\cdot 0.75^3 = \\frac{5!}{2! \\: (5-2)!} \\cdot 0.25^2 \\cdot 0.75^3 = 0.264.$$\n",
    "\n",
    "$$P(X = 3) = C_n^k p^k (1 - p)^{n - k} = C_5^3 \\cdot 0.25^3 \\cdot 0.75^2 = \\frac{5!}{3! \\: (5-3)!} \\cdot 0.25^3 \\cdot 0.75^2 = 0.088.$$\n",
    "\n",
    "$$P(X = 4) = C_n^k p^k (1 - p)^{n - k} = C_5^4 \\cdot 0.25^4 \\cdot 0.75^1 = \\frac{5!}{4! \\: (5-4)!} \\cdot 0.25^4 \\cdot 0.75^1 = 0.015.$$\n",
    "\n",
    "$$P(X = 5) = C_n^k p^k (1 - p)^{n - k} = C_5^5 \\cdot 0.25^5 \\cdot 0.75^0 = \\frac{5!}{5! \\: (5-5)!} \\cdot 0.25^5 \\cdot 0.75^0 = 0.001.$$\n",
    "\n",
    "закон распределения такой случайной величины:\n",
    "\n",
    "<table border=\"3\">\n",
    "    <tr>\n",
    "        <th>$x$</th>\n",
    "        <td>0</td>\n",
    "        <td>1</td>\n",
    "        <td>2</td>\n",
    "        <td>3</td>\n",
    "        <td>4</td>\n",
    "        <td>5</td>\n",
    "    </tr>\n",
    "    <tr>\n",
    "        <th>$P(X = x)$</th>\n",
    "        <td>0.237</td>\n",
    "        <td>0.395</td>\n",
    "        <td>0.264</td>\n",
    "        <td>0.088</td>\n",
    "        <td>0.015</td>\n",
    "        <td>0.001</td>\n",
    "    </tr>\n",
    "</table>"
   ]
  },
  {
   "cell_type": "markdown",
   "metadata": {},
   "source": [
    "Посчитаем математическое ожидание распределения. Поскольку $n = 5$ и $p = 0.25$, получаем:\n",
    "\n",
    "$$M(X) = 5 \\cdot 0.25 = 1.25.$$"
   ]
  },
  {
   "cell_type": "markdown",
   "metadata": {},
   "source": [
    "Дисперсия такой величины:\n",
    "\n",
    "$$D(X) = 5 \\cdot 0.25 \\cdot (1 - 0.25) = 0.94.$$"
   ]
  },
  {
   "cell_type": "markdown",
   "metadata": {},
   "source": [
    "__Задача 2__\n",
    "\n",
    "Вероятность попадания в цель при одном выстреле равна 0.01. Какова вероятность того, что число попаданий при 200 выстрелах будет не менее 5 и не более 10?"
   ]
  },
  {
   "cell_type": "markdown",
   "metadata": {},
   "source": [
    " рассматриваемая случайная величина имеет распределение Пуассона, т.к. мы можем посчитать число попаданий. В нашем случае $a = 200 \\cdot 0.01 = 2$\n",
    " \n",
    " $$P(X = 5) = \\dfrac{2^{5} \\cdot e^{-2}}{5!} \\approx 0.0361.$$\n",
    " \n",
    " $$P(X = 6) = \\dfrac{2^{6} \\cdot e^{-2}}{6!} \\approx 0.0120.$$\n",
    " \n",
    " $$P(X = 7) = \\dfrac{2^{7} \\cdot e^{-2}}{7!} \\approx 0.0034.$$\n",
    " \n",
    " $$P(X = 8) = \\dfrac{2^{8} \\cdot e^{-2}}{8!} \\approx 0.0009.$$\n",
    " \n",
    " $$P(X = 9) = \\dfrac{2^{9} \\cdot e^{-2}}{9!} \\approx 0.0002.$$\n",
    " \n",
    " $$P(X = 10) = \\dfrac{2^{10} \\cdot e^{-2}}{10!} \\approx 0.00004.$$\n",
    " \n",
    " находим сумму вероятностей? p = 0.05264"
   ]
  },
  {
   "cell_type": "code",
   "execution_count": 25,
   "metadata": {},
   "outputs": [
    {
     "data": {
      "text/plain": [
       "3.8189850648779595e-05"
      ]
     },
     "execution_count": 25,
     "metadata": {},
     "output_type": "execute_result"
    }
   ],
   "source": [
    "import numpy as np\n",
    "\n",
    "a = 2\n",
    "k = 10\n",
    "\n",
    "(a ** k) * (np.exp(-a)) / np.math.factorial(k)"
   ]
  },
  {
   "cell_type": "code",
   "execution_count": 26,
   "metadata": {},
   "outputs": [
    {
     "data": {
      "text/plain": [
       "0.05264"
      ]
     },
     "execution_count": 26,
     "metadata": {},
     "output_type": "execute_result"
    }
   ],
   "source": [
    "0.0361 + 0.0120 + 0.0034 + 0.0009 + 0.0002 + 0.00004"
   ]
  },
  {
   "cell_type": "markdown",
   "metadata": {},
   "source": [
    "__Задача 3__\n",
    "\n",
    "В условиях предыдущей задачи сколько выстрелов нужно сделать чтобы быть уверенным с вероятностью 0.9, что хотя бы 10 раз будет совершено попадание?\n",
    "\n",
    "_Подсказка_. Как посчитать `P(X >= k)` для величины `X`, имеющей распределение Пуассона? Здесь предстоит немножко покодить."
   ]
  },
  {
   "cell_type": "markdown",
   "metadata": {},
   "source": [
    "число выстрелов при заданной вероятности влияет на параметр а в распределении Пуассона. найдем n при котором вероятность P(X >= k) будет = 0,9"
   ]
  },
  {
   "cell_type": "code",
   "execution_count": 42,
   "metadata": {},
   "outputs": [
    {
     "name": "stdout",
     "output_type": "stream",
     "text": [
      "0.10000177996636454 803\n"
     ]
    }
   ],
   "source": [
    "n = 1\n",
    "k = 10\n",
    "f = np.math.factorial(k)\n",
    "\n",
    "old_p = -1\n",
    "while True:\n",
    "    a = n * 0.01\n",
    "    p = (a ** k) * (np.exp(-a)) / f\n",
    "    if p + 0.0001 > 0.1:\n",
    "        break\n",
    "    n += 1\n",
    "\n",
    "print(p, n)"
   ]
  },
  {
   "cell_type": "markdown",
   "metadata": {},
   "source": [
    "за 803 выстрела мы попадем 10 раз с вероятностью 0,1. как это докрутить до 0,9 не совсем понятно."
   ]
  }
 ],
 "metadata": {
  "kernelspec": {
   "display_name": "Python 3",
   "language": "python",
   "name": "python3"
  },
  "language_info": {
   "codemirror_mode": {
    "name": "ipython",
    "version": 3
   },
   "file_extension": ".py",
   "mimetype": "text/x-python",
   "name": "python",
   "nbconvert_exporter": "python",
   "pygments_lexer": "ipython3",
   "version": "3.7.0"
  }
 },
 "nbformat": 4,
 "nbformat_minor": 2
}
